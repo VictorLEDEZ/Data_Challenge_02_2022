{
 "cells": [
  {
   "cell_type": "markdown",
   "id": "047d66ca-084c-4c71-a8d4-2adce55ae50e",
   "metadata": {},
   "source": [
    "# Challenge Large Scale Machine Learning: Starting Kit\n",
    "\n",
    "### Authors: \n",
    "#### Pavlo Mozharovskyi (pavlo.mozharovskyi@telecom-paris.fr), Nathan Noiry (nathan.noiry@telecom-paris.fr)"
   ]
  },
  {
   "cell_type": "markdown",
   "id": "c18b3672-38f9-4a3f-bb1a-a5be6d1e93b8",
   "metadata": {},
   "source": [
    "### Training data\n",
    "\n",
    "The training set consist of two files, **train_data.npy** and **train_labels.txt**.\n",
    "\n",
    "File **train_data.npy** contains one observation per row, which is made of the concatenation of two templates, each of dimension 48.\n",
    "\n",
    "File **train_labels.txt** contains one column with each entry corresponding to one observation in **xtrain_challenge.csv**, maintaining the order, and has '1' if a pair of images belong to the same person and '0' otherwise.\n",
    "\n",
    "In total, there are 267508 observations."
   ]
  },
  {
   "cell_type": "markdown",
   "id": "3bb59f7a-2deb-4cc3-980c-3473add86eb7",
   "metadata": {},
   "source": [
    "### Peformance criterion\n",
    "\n",
    "You are asked to minimize the sum of the False Positive Rate (FPR) and the False Negative Rate (FNR). This amounts to maximize: \n",
    "$$ 1 - (FNR+FPR) $$"
   ]
  },
  {
   "cell_type": "markdown",
   "id": "07f1fa0a",
   "metadata": {},
   "source": [
    "### Fairness Peformance criterion\n",
    "\n",
    "Moreover, we want the prediction to be as fair as possible with respect to the gender attribute. In our case, we want to make the ratios\n",
    "$$ BFPR := \\frac{\\max(FPR(male),FPR(female))}{\\mathrm{GeomMean}(FPR(male),FPR(female))} \\geq 1 $$\n",
    "and\n",
    "$$ BFNR := \\frac{\\max(FNR(male),FNR(female))}{\\mathrm{GeomMean}(FNR(male),FNR(female))} \\geq 1 $$\n",
    "as close to 1 as possible, which corresponds to its minimum value. </br>\n",
    "Here, GeomMean stands for the geometric mean, which is equal to $\\sqrt{xy}$ for two nonnegative real numbers $x$ and $y$.\n",
    "\n",
    "For a given input $\\mathbf{x}$ made of two templates, the gender attribute of the first template is $\\mathbf{x}[8]$ and the one of the second template is $\\mathbf{x}[56]$. The value 1 is for \"male\" and 0 for \"female\"."
   ]
  },
  {
   "cell_type": "markdown",
   "id": "cca67bc4-84c1-4a3f-a693-90730e41fb4f",
   "metadata": {},
   "source": [
    "# Example of submission"
   ]
  },
  {
   "cell_type": "code",
   "execution_count": 21,
   "id": "3c66d791-b085-4c82-a024-e6913716c6ea",
   "metadata": {},
   "outputs": [],
   "source": [
    "import numpy as np\n",
    "import matplotlib.pyplot as plt\n",
    "from sklearn.model_selection import train_test_split\n",
    "from sklearn.ensemble import RandomForestClassifier\n",
    "from sklearn.metrics import confusion_matrix, roc_curve\n",
    "\n",
    "np.random.seed(seed=42)"
   ]
  },
  {
   "cell_type": "code",
   "execution_count": 22,
   "id": "5ca9b0bb-64df-4c0e-9992-c16d2fc3d9d5",
   "metadata": {},
   "outputs": [],
   "source": [
    "def extract_labels(txt_file):\n",
    "    with open(txt_file) as file:\n",
    "        lines = file.readlines()\n",
    "    y = []\n",
    "    for elem in lines:\n",
    "        label = int(elem[0])\n",
    "        y.append(label)\n",
    "    y = np.array(y)\n",
    "    return y"
   ]
  },
  {
   "cell_type": "code",
   "execution_count": 23,
   "id": "0a7d8b41-c37d-408b-b1c4-4f191635c34f",
   "metadata": {},
   "outputs": [],
   "source": [
    "X, y = np.load(\"train_data.npy\"), extract_labels(\"train_labels.txt\")\n",
    "X_train, X_valid, y_train, y_valid = train_test_split(X, y, test_size=0.1)"
   ]
  },
  {
   "cell_type": "code",
   "execution_count": 24,
   "id": "09e1945b-4fd3-4631-be1e-711ffd2a2cc9",
   "metadata": {},
   "outputs": [],
   "source": [
    "models = []\n",
    "for i in [2, 5, 10]:\n",
    "    clf = RandomForestClassifier(n_estimators=i)\n",
    "    clf.fit(X_train, y_train)   \n",
    "    models.append(clf)"
   ]
  },
  {
   "cell_type": "code",
   "execution_count": 15,
   "id": "a786e5be",
   "metadata": {
    "scrolled": true
   },
   "outputs": [],
   "source": [
    "# mask males\n",
    "mask_males = (X_valid[:,8] == X_valid[:,56]) & (X_valid[:,8] == 1)\n",
    "# mask females\n",
    "mask_females = (X_valid[:,8] == X_valid[:,56]) & (X_valid[:,8] == 0)"
   ]
  },
  {
   "cell_type": "code",
   "execution_count": 25,
   "id": "b76c7205",
   "metadata": {},
   "outputs": [],
   "source": [
    "def criterion(y_pred, y_true):\n",
    "    CM = confusion_matrix(y_true, y_pred)\n",
    "    TN, TP = CM[0, 0], CM[1, 1]\n",
    "    FP, FN = CM[0, 1], CM[1, 0]\n",
    "    return 1 - ( FP/(FP + TN) + FN/(FN + TP) )\n",
    "\n",
    "def fairness_criterion(y_pred, y_true, mask_males, mask_females):\n",
    "    y_true_male = y_true[mask_males]\n",
    "    y_true_female = y_true[mask_females]\n",
    "    y_pred_male = y_pred[mask_males]\n",
    "    y_pred_female = y_pred[mask_females]\n",
    "\n",
    "    CM_m = confusion_matrix(y_true_male, y_pred_male)\n",
    "    TN_m, TP_m = CM_m[0, 0], CM_m[1, 1]\n",
    "    FP_m, FN_m = CM_m[0, 1], CM_m[1, 0]\n",
    "    FNR_m = FN_m/(FN_m + TP_m)\n",
    "    FPR_m = FP_m/(FP_m + TN_m)\n",
    "\n",
    "    CM_f = confusion_matrix(y_true_female, y_pred_female)\n",
    "    TN_f, TP_f = CM_f[0, 0], CM_f[1, 1]\n",
    "    FP_f, FN_f = CM_f[0, 1], CM_f[1, 0]\n",
    "    FNR_f = FN_f/(FN_f + TP_f)\n",
    "    FPR_f = FP_f/(FP_f + TN_f)\n",
    "\n",
    "    if min(FNR_m, FNR_f) == 0:\n",
    "        if max(FNR_m, FNR_f) == 0:\n",
    "            BFNR = 1\n",
    "        else:\n",
    "            BFNR = np.Infinity\n",
    "    else:\n",
    "        BFNR = max(FNR_m, FNR_f) / np.sqrt(FNR_m * FNR_f)\n",
    "\n",
    "    if min(FPR_m, FPR_f) == 0:\n",
    "        if max(FPR_m, FPR_f) == 0:\n",
    "            BFPR = 1\n",
    "        else:\n",
    "            BFPR = np.Infinity\n",
    "    else:\n",
    "        BFPR = max(FPR_m, FPR_f) / np.sqrt(FPR_m * FPR_f)\n",
    "\n",
    "    return BFPR, BFNR"
   ]
  },
  {
   "cell_type": "code",
   "execution_count": 26,
   "id": "021a0afb-24dc-4dfb-a63d-77b24f37448b",
   "metadata": {},
   "outputs": [
    {
     "name": "stdout",
     "output_type": "stream",
     "text": [
      "RF with 2 estimators\n",
      "FPR + FNR = 0.36018032566276403\n",
      "Fairness scores: BFPR=1.2581889451648887, BFNR=1.1919824566836357\n",
      "---------------\n",
      "RF with 5 estimators\n",
      "FPR + FNR = 0.4703270084779976\n",
      "Fairness scores: BFPR=1.2617382786986342, BFNR=1.3848258933600173\n",
      "---------------\n",
      "RF with 10 estimators\n",
      "FPR + FNR = 0.5121787108060827\n",
      "Fairness scores: BFPR=1.3378775520350108, BFNR=1.3926933627069833\n",
      "---------------\n"
     ]
    }
   ],
   "source": [
    "for n, i in enumerate([2, 5, 10]):\n",
    "    print('RF with {} estimators'.format(i))\n",
    "    y_pred = models[n].predict(X_valid)\n",
    "    score_valid = criterion(y_pred, y_valid)\n",
    "    BFPR_valid, BFNR_valid = fairness_criterion(y_pred, y_valid, mask_males, mask_females)\n",
    "    print('FPR + FNR = {}'.format(score_valid))\n",
    "    print('Fairness scores: BFPR={}, BFNR={}'.format(BFPR_valid, BFNR_valid))\n",
    "    print('---------------')"
   ]
  },
  {
   "cell_type": "markdown",
   "id": "ccf8d0f9",
   "metadata": {},
   "source": [
    "The previous results prove that improving the score can degrade the fairness metrics. Your job is to find a proper trade-off."
   ]
  },
  {
   "cell_type": "markdown",
   "id": "fcdc3951-8005-45e0-9ab6-ad3f1a0ac4f0",
   "metadata": {},
   "source": [
    "### Prepare a file for submission"
   ]
  },
  {
   "cell_type": "code",
   "execution_count": 20,
   "id": "cb220b5d-7d2e-4b18-bed5-38dd45096461",
   "metadata": {},
   "outputs": [],
   "source": [
    "# Load test data\n",
    "X_test = np.load(\"test_data.npy\")\n",
    "# Classify the provided test data\n",
    "y_test = clf.predict(X_test).astype(np.int8)\n",
    "np.savetxt('y_test_challenge_student_TEST.txt', y_test, delimiter=',')"
   ]
  },
  {
   "cell_type": "markdown",
   "id": "637c939c",
   "metadata": {},
   "source": [
    "### About the evaluation"
   ]
  },
  {
   "cell_type": "markdown",
   "id": "83839ef5",
   "metadata": {},
   "source": [
    "For each of your new submission, you will have access to your rank compared to the other participants in term of\n",
    "<ul>\n",
    "    <li> the score, </li>\n",
    "    <li> the BFPR, </li>\n",
    "    <li> the BFNR. </li>\n",
    "</ul>\n",
    "Your final ranking is an aggregation of these three rankings. Beware that each new submission can degrade your position. "
   ]
  },
  {
   "cell_type": "code",
   "execution_count": null,
   "id": "15d1b8c4",
   "metadata": {},
   "outputs": [],
   "source": []
  }
 ],
 "metadata": {
  "kernelspec": {
   "display_name": "Python 3 (ipykernel)",
   "language": "python",
   "name": "python3"
  },
  "language_info": {
   "codemirror_mode": {
    "name": "ipython",
    "version": 3
   },
   "file_extension": ".py",
   "mimetype": "text/x-python",
   "name": "python",
   "nbconvert_exporter": "python",
   "pygments_lexer": "ipython3",
   "version": "3.8.13"
  }
 },
 "nbformat": 4,
 "nbformat_minor": 5
}