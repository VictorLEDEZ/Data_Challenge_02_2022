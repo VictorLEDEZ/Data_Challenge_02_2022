{
 "cells": [
  {
   "cell_type": "markdown",
   "id": "14106fbf",
   "metadata": {},
   "source": [
    "# Data Challenge 2: Fairness\n",
    "\n",
    "### Authors:\n",
    "\n",
    "#### Victor Ledez (victor.ledez@telecom-paris.fr)\n"
   ]
  },
  {
   "cell_type": "markdown",
   "id": "a249813b",
   "metadata": {},
   "source": [
    "<hr>\n",
    "\n",
    "## 1. Import Libraries\n",
    "\n",
    "<hr>\n"
   ]
  },
  {
   "cell_type": "code",
   "execution_count": 1,
   "id": "3c66d791-b085-4c82-a024-e6913716c6ea",
   "metadata": {},
   "outputs": [],
   "source": [
    "import numpy as np\n",
    "import matplotlib.pyplot as plt\n",
    "from sklearn.model_selection import train_test_split\n",
    "from sklearn.metrics import confusion_matrix\n",
    "\n",
    "import torch.optim as optim\n",
    "import torch.nn as nn\n",
    "import torch\n",
    "\n",
    "np.random.seed(seed=42)\n"
   ]
  },
  {
   "cell_type": "markdown",
   "id": "962e39da",
   "metadata": {},
   "source": [
    "<hr>\n",
    "\n",
    "## 2. Reading Data\n",
    "\n",
    "<hr>\n"
   ]
  },
  {
   "cell_type": "code",
   "execution_count": 2,
   "id": "5ca9b0bb-64df-4c0e-9992-c16d2fc3d9d5",
   "metadata": {},
   "outputs": [],
   "source": [
    "def extract_labels(txt_file):\n",
    "    with open(txt_file) as file:\n",
    "        lines = file.readlines()\n",
    "    y = []\n",
    "    for elem in lines:\n",
    "        label = int(elem[0])\n",
    "        y.append(label)\n",
    "    y = np.array(y)\n",
    "    return y\n"
   ]
  },
  {
   "cell_type": "code",
   "execution_count": 3,
   "id": "0a7d8b41-c37d-408b-b1c4-4f191635c34f",
   "metadata": {},
   "outputs": [],
   "source": [
    "X, y = np.load(\"train_data.npy\"), extract_labels(\"train_labels.txt\")\n",
    "X_train, X_valid, y_train, y_valid = train_test_split(X, y, test_size=0.1)\n",
    "\n",
    "X_train = torch.from_numpy(X_train).float()\n",
    "X_valid = torch.from_numpy(X_valid).float()\n",
    "\n",
    "y_train = torch.from_numpy(y_train).float().view(len(y_train), 1)\n",
    "y_valid = torch.from_numpy(y_valid).float().view(len(y_valid), 1)\n"
   ]
  },
  {
   "cell_type": "markdown",
   "id": "e83dff8f",
   "metadata": {},
   "source": [
    "<hr>\n",
    "\n",
    "## 3. Fully-connected Neural Network\n",
    "\n",
    "<hr>\n"
   ]
  },
  {
   "cell_type": "code",
   "execution_count": 4,
   "id": "f15992a4",
   "metadata": {},
   "outputs": [
    {
     "name": "stdout",
     "output_type": "stream",
     "text": [
      "96\n",
      "65\n"
     ]
    }
   ],
   "source": [
    "n_in = X_train.shape[1]\n",
    "n_out = 1\n",
    "n_h1 = round((n_in * 2 / 3) + n_out)\n",
    "# n_h1 = 4 * n_in\n",
    "# n_h2 = 3 * n_in\n",
    "# n_h3 = 1 * n_in\n",
    "nb_epoch = 100\n",
    "alpha = 0.01\n",
    "\n",
    "print(n_in)\n",
    "print(n_h1)\n",
    "# print(n_h2)\n",
    "# print(n_h3)\n"
   ]
  },
  {
   "cell_type": "code",
   "execution_count": 5,
   "id": "2bba7842",
   "metadata": {},
   "outputs": [],
   "source": [
    "my_model = nn.Sequential(\n",
    "    nn.Linear(n_in, n_h1),\n",
    "    nn.ReLU(),\n",
    "    nn.Linear(n_h1, n_out),\n",
    "    nn.Sigmoid()\n",
    ")\n",
    "\n",
    "# my_model = nn.Sequential(\n",
    "#     nn.Linear(n_in, n_h1),\n",
    "#     nn.ReLU(),\n",
    "#     nn.Linear(n_h1, n_h2),\n",
    "#     nn.ReLU(),\n",
    "#     nn.Linear(n_h2, n_h3),\n",
    "#     nn.ReLU(),\n",
    "#     nn.Linear(n_h3, n_out),\n",
    "#     nn.Sigmoid()\n",
    "# )\n"
   ]
  },
  {
   "cell_type": "code",
   "execution_count": 6,
   "id": "90841417",
   "metadata": {},
   "outputs": [
    {
     "name": "stdout",
     "output_type": "stream",
     "text": [
      "epoch 0, loss 6.54854154586792\n",
      "epoch 1, loss 44.60694122314453\n",
      "epoch 2, loss 50.0\n",
      "epoch 3, loss 50.0\n",
      "epoch 4, loss 50.0\n",
      "epoch 5, loss 50.0\n",
      "epoch 6, loss 50.0\n",
      "epoch 7, loss 50.0\n",
      "epoch 8, loss 50.0\n",
      "epoch 9, loss 50.0\n",
      "epoch 10, loss 50.0\n",
      "epoch 11, loss 50.0\n",
      "epoch 12, loss 50.0\n",
      "epoch 13, loss 50.0\n",
      "epoch 14, loss 50.0\n",
      "epoch 15, loss 50.0\n",
      "epoch 16, loss 50.0\n",
      "epoch 17, loss 50.0\n",
      "epoch 18, loss 50.0\n",
      "epoch 19, loss 50.0\n",
      "epoch 20, loss 50.0\n",
      "epoch 21, loss 50.0\n",
      "epoch 22, loss 50.0\n",
      "epoch 23, loss 50.0\n",
      "epoch 24, loss 50.0\n",
      "epoch 25, loss 50.0\n",
      "epoch 26, loss 50.0\n",
      "epoch 27, loss 50.0\n",
      "epoch 28, loss 50.0\n",
      "epoch 29, loss 50.0\n",
      "epoch 30, loss 50.0\n",
      "epoch 31, loss 50.0\n",
      "epoch 32, loss 50.0\n",
      "epoch 33, loss 50.0\n",
      "epoch 34, loss 50.0\n",
      "epoch 35, loss 50.0\n",
      "epoch 36, loss 50.0\n",
      "epoch 37, loss 50.0\n",
      "epoch 38, loss 50.0\n",
      "epoch 39, loss 50.0\n",
      "epoch 40, loss 50.0\n",
      "epoch 41, loss 50.0\n",
      "epoch 42, loss 50.0\n",
      "epoch 43, loss 50.0\n",
      "epoch 44, loss 50.0\n",
      "epoch 45, loss 50.0\n",
      "epoch 46, loss 50.0\n",
      "epoch 47, loss 50.0\n",
      "epoch 48, loss 50.0\n",
      "epoch 49, loss 50.0\n",
      "epoch 50, loss 50.0\n",
      "epoch 51, loss 50.0\n",
      "epoch 52, loss 50.0\n",
      "epoch 53, loss 50.0\n",
      "epoch 54, loss 50.0\n",
      "epoch 55, loss 50.0\n",
      "epoch 56, loss 50.0\n",
      "epoch 57, loss 50.0\n",
      "epoch 58, loss 50.0\n",
      "epoch 59, loss 50.0\n",
      "epoch 60, loss 50.0\n",
      "epoch 61, loss 50.0\n",
      "epoch 62, loss 50.0\n",
      "epoch 63, loss 50.0\n",
      "epoch 64, loss 50.0\n",
      "epoch 65, loss 50.0\n",
      "epoch 66, loss 50.0\n",
      "epoch 67, loss 50.0\n",
      "epoch 68, loss 50.0\n",
      "epoch 69, loss 50.0\n",
      "epoch 70, loss 50.0\n",
      "epoch 71, loss 50.0\n",
      "epoch 72, loss 50.0\n",
      "epoch 73, loss 50.0\n",
      "epoch 74, loss 50.0\n",
      "epoch 75, loss 50.0\n",
      "epoch 76, loss 50.0\n",
      "epoch 77, loss 50.0\n",
      "epoch 78, loss 50.0\n",
      "epoch 79, loss 50.0\n",
      "epoch 80, loss 50.0\n",
      "epoch 81, loss 50.0\n",
      "epoch 82, loss 50.0\n",
      "epoch 83, loss 50.0\n",
      "epoch 84, loss 50.0\n",
      "epoch 85, loss 50.0\n",
      "epoch 86, loss 50.0\n",
      "epoch 87, loss 50.0\n",
      "epoch 88, loss 50.0\n",
      "epoch 89, loss 50.0\n",
      "epoch 90, loss 50.0\n",
      "epoch 91, loss 50.0\n",
      "epoch 92, loss 50.0\n",
      "epoch 93, loss 50.0\n",
      "epoch 94, loss 50.0\n",
      "epoch 95, loss 50.0\n",
      "epoch 96, loss 50.0\n",
      "epoch 97, loss 50.0\n",
      "epoch 98, loss 50.0\n",
      "epoch 99, loss 50.0\n"
     ]
    },
    {
     "data": {
      "text/plain": [
       "[<matplotlib.lines.Line2D at 0x1e50e6e0af0>]"
      ]
     },
     "execution_count": 6,
     "metadata": {},
     "output_type": "execute_result"
    },
    {
     "data": {
      "image/png": "[encoded data removed]",
      "text/plain": [
       "<Figure size 432x288 with 1 Axes>"
      ]
     },
     "metadata": {
      "needs_background": "light"
     },
     "output_type": "display_data"
    }
   ],
   "source": [
    "criterion = nn.BCELoss()\n",
    "optimizer = optim.Adam(my_model.parameters(), lr=alpha)\n",
    "\n",
    "loss_l = []\n",
    "for num_epoch in range(nb_epoch):\n",
    "\n",
    "    hat_y = my_model(X_train)\n",
    "    loss = criterion(hat_y, y_train)\n",
    "    optimizer.zero_grad()\n",
    "    loss.backward()\n",
    "    optimizer.step()\n",
    "\n",
    "    loss_l.append(loss.tolist())\n",
    "\n",
    "    print(f'epoch {num_epoch}, loss {loss.item()}')\n",
    "\n",
    "    if loss < 0.39:\n",
    "        break\n",
    "\n",
    "plt.plot(loss_l)\n"
   ]
  },
  {
   "cell_type": "code",
   "execution_count": 7,
   "id": "a786e5be",
   "metadata": {
    "scrolled": true
   },
   "outputs": [],
   "source": [
    "mask_males = (X_valid[:, 8] == X_valid[:, 56]) & (X_valid[:, 8] == 1)\n",
    "mask_females = (X_valid[:, 8] == X_valid[:, 56]) & (X_valid[:, 8] == 0)\n"
   ]
  },
  {
   "cell_type": "markdown",
   "id": "962e39da",
   "metadata": {},
   "source": [
    "<hr>\n",
    "\n",
    "## 4. Validating\n",
    "\n",
    "<hr>\n"
   ]
  },
  {
   "cell_type": "code",
   "execution_count": 8,
   "id": "b76c7205",
   "metadata": {},
   "outputs": [],
   "source": [
    "def criterion(y_pred, y_true):\n",
    "    CM = confusion_matrix(y_true, y_pred)\n",
    "    TN, TP = CM[0, 0], CM[1, 1]\n",
    "    FP, FN = CM[0, 1], CM[1, 0]\n",
    "    return 1 - (FP/(FP + TN) + FN/(FN + TP))\n",
    "\n",
    "\n",
    "def fairness_criterion(y_pred, y_true, mask_males, mask_females):\n",
    "    y_true_male = y_true[mask_males]\n",
    "    y_true_female = y_true[mask_females]\n",
    "    y_pred_male = y_pred[mask_males]\n",
    "    y_pred_female = y_pred[mask_females]\n",
    "\n",
    "    CM_m = confusion_matrix(y_true_male, y_pred_male)\n",
    "    TN_m, TP_m = CM_m[0, 0], CM_m[1, 1]\n",
    "    FP_m, FN_m = CM_m[0, 1], CM_m[1, 0]\n",
    "    FNR_m = FN_m/(FN_m + TP_m)\n",
    "    FPR_m = FP_m/(FP_m + TN_m)\n",
    "\n",
    "    CM_f = confusion_matrix(y_true_female, y_pred_female)\n",
    "    TN_f, TP_f = CM_f[0, 0], CM_f[1, 1]\n",
    "    FP_f, FN_f = CM_f[0, 1], CM_f[1, 0]\n",
    "    FNR_f = FN_f/(FN_f + TP_f)\n",
    "    FPR_f = FP_f/(FP_f + TN_f)\n",
    "\n",
    "    if min(FNR_m, FNR_f) == 0:\n",
    "        if max(FNR_m, FNR_f) == 0:\n",
    "            BFNR = 1\n",
    "        else:\n",
    "            BFNR = np.Infinity\n",
    "    else:\n",
    "        BFNR = max(FNR_m, FNR_f) / np.sqrt(FNR_m * FNR_f)\n",
    "\n",
    "    if min(FPR_m, FPR_f) == 0:\n",
    "        if max(FPR_m, FPR_f) == 0:\n",
    "            BFPR = 1\n",
    "        else:\n",
    "            BFPR = np.Infinity\n",
    "    else:\n",
    "        BFPR = max(FPR_m, FPR_f) / np.sqrt(FPR_m * FPR_f)\n",
    "\n",
    "    return BFPR, BFNR\n"
   ]
  },
  {
   "cell_type": "code",
   "execution_count": 9,
   "id": "021a0afb-24dc-4dfb-a63d-77b24f37448b",
   "metadata": {},
   "outputs": [
    {
     "name": "stdout",
     "output_type": "stream",
     "text": [
      "FPR + FNR = 0.0\n",
      "Fairness scores: BFPR=1, BFNR=1.0\n"
     ]
    }
   ],
   "source": [
    "y_pred = np.rint(my_model(X_valid).detach().numpy())\n",
    "score_valid = criterion(y_pred, y_valid)\n",
    "BFPR_valid, BFNR_valid = fairness_criterion(\n",
    "    y_pred, y_valid, mask_males, mask_females)\n",
    "\n",
    "print(f'FPR + FNR = {score_valid}')\n",
    "print(f'Fairness scores: BFPR={BFPR_valid}, BFNR={BFNR_valid}')\n"
   ]
  },
  {
   "cell_type": "markdown",
   "id": "e83dff8f",
   "metadata": {},
   "source": [
    "<hr>\n",
    "\n",
    "## 5. Score\n",
    "\n",
    "<hr>\n"
   ]
  },
  {
   "cell_type": "code",
   "execution_count": 10,
   "id": "cb220b5d-7d2e-4b18-bed5-38dd45096461",
   "metadata": {},
   "outputs": [],
   "source": [
    "X_test = np.load(\"test_data.npy\")\n",
    "\n",
    "X_test = torch.from_numpy(X_test).float()\n",
    "\n",
    "y_test = np.rint(my_model(X_test).detach().numpy())\n",
    "\n",
    "np.savetxt('y_test_challenge_student_TEST.txt', y_test, delimiter=',')\n"
   ]
  }
 ],
 "metadata": {
  "kernelspec": {
   "display_name": "Python 3.9.7 64-bit",
   "language": "python",
   "name": "python3"
  },
  "language_info": {
   "codemirror_mode": {
    "name": "ipython",
    "version": 3
   },
   "file_extension": ".py",
   "mimetype": "text/x-python",
   "name": "python",
   "nbconvert_exporter": "python",
   "pygments_lexer": "ipython3",
   "version": "3.9.7"
  },
  "vscode": {
   "interpreter": {
    "hash": "eac73d0129495b5bb4522910e374aaf43acb0a473321525c719968beb76cd416"
   }
  }
 },
 "nbformat": 4,
 "nbformat_minor": 5
}
