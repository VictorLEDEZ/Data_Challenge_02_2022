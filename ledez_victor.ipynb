{
 "cells": [
  {
   "cell_type": "markdown",
   "id": "14106fbf",
   "metadata": {},
   "source": [
    "# Data Challenge 2: Fairness\n",
    "\n",
    "### Authors:\n",
    "\n",
    "#### Victor Ledez (victor.ledez@telecom-paris.fr)\n"
   ]
  },
  {
   "cell_type": "markdown",
   "id": "a249813b",
   "metadata": {},
   "source": [
    "<hr>\n",
    "\n",
    "## 1. Import Libraries\n",
    "\n",
    "<hr>\n"
   ]
  },
  {
   "cell_type": "code",
   "execution_count": 1,
   "id": "3c66d791-b085-4c82-a024-e6913716c6ea",
   "metadata": {},
   "outputs": [],
   "source": [
    "import numpy as np\n",
    "import matplotlib.pyplot as plt\n",
    "from sklearn.model_selection import train_test_split\n",
    "from sklearn.ensemble import RandomForestClassifier\n",
    "from sklearn.metrics import confusion_matrix, roc_curve\n",
    "\n",
    "np.random.seed(seed=42)"
   ]
  },
  {
   "cell_type": "markdown",
   "id": "962e39da",
   "metadata": {},
   "source": [
    "<hr>\n",
    "\n",
    "## 2. Reading Data\n",
    "\n",
    "<hr>\n"
   ]
  },
  {
   "cell_type": "code",
   "execution_count": 2,
   "id": "5ca9b0bb-64df-4c0e-9992-c16d2fc3d9d5",
   "metadata": {},
   "outputs": [],
   "source": [
    "def extract_labels(txt_file):\n",
    "    with open(txt_file) as file:\n",
    "        lines = file.readlines()\n",
    "    y = []\n",
    "    for elem in lines:\n",
    "        label = int(elem[0])\n",
    "        y.append(label)\n",
    "    y = np.array(y)\n",
    "    return y"
   ]
  },
  {
   "cell_type": "code",
   "execution_count": 3,
   "id": "0a7d8b41-c37d-408b-b1c4-4f191635c34f",
   "metadata": {},
   "outputs": [],
   "source": [
    "X, y = np.load(\"train_data.npy\"), extract_labels(\"train_labels.txt\")\n",
    "X_train, X_valid, y_train, y_valid = train_test_split(X, y, test_size=0.1)"
   ]
  },
  {
   "cell_type": "markdown",
   "id": "e83dff8f",
   "metadata": {},
   "source": [
    "<hr>\n",
    "\n",
    "## 3. Fully-connected Neural Network\n",
    "\n",
    "<hr>\n"
   ]
  },
  {
   "cell_type": "code",
   "execution_count": 4,
   "id": "09e1945b-4fd3-4631-be1e-711ffd2a2cc9",
   "metadata": {},
   "outputs": [],
   "source": [
    "models = []\n",
    "for i in [2, 5, 10]:\n",
    "    clf = RandomForestClassifier(n_estimators=i)\n",
    "    clf.fit(X_train, y_train)   \n",
    "    models.append(clf)"
   ]
  },
  {
   "cell_type": "code",
   "execution_count": 5,
   "id": "a786e5be",
   "metadata": {
    "scrolled": true
   },
   "outputs": [],
   "source": [
    "# mask males\n",
    "mask_males = (X_valid[:,8] == X_valid[:,56]) & (X_valid[:,8] == 1)\n",
    "# mask females\n",
    "mask_females = (X_valid[:,8] == X_valid[:,56]) & (X_valid[:,8] == 0)"
   ]
  },
  {
   "cell_type": "markdown",
   "id": "962e39da",
   "metadata": {},
   "source": [
    "<hr>\n",
    "\n",
    "## 4. Validating\n",
    "\n",
    "<hr>\n"
   ]
  },
  {
   "cell_type": "code",
   "execution_count": 6,
   "id": "b76c7205",
   "metadata": {},
   "outputs": [],
   "source": [
    "def criterion(y_pred, y_true):\n",
    "    CM = confusion_matrix(y_true, y_pred)\n",
    "    TN, TP = CM[0, 0], CM[1, 1]\n",
    "    FP, FN = CM[0, 1], CM[1, 0]\n",
    "    return 1 - ( FP/(FP + TN) + FN/(FN + TP) )\n",
    "\n",
    "def fairness_criterion(y_pred, y_true, mask_males, mask_females):\n",
    "    y_true_male = y_true[mask_males]\n",
    "    y_true_female = y_true[mask_females]\n",
    "    y_pred_male = y_pred[mask_males]\n",
    "    y_pred_female = y_pred[mask_females]\n",
    "\n",
    "    CM_m = confusion_matrix(y_true_male, y_pred_male)\n",
    "    TN_m, TP_m = CM_m[0, 0], CM_m[1, 1]\n",
    "    FP_m, FN_m = CM_m[0, 1], CM_m[1, 0]\n",
    "    FNR_m = FN_m/(FN_m + TP_m)\n",
    "    FPR_m = FP_m/(FP_m + TN_m)\n",
    "\n",
    "    CM_f = confusion_matrix(y_true_female, y_pred_female)\n",
    "    TN_f, TP_f = CM_f[0, 0], CM_f[1, 1]\n",
    "    FP_f, FN_f = CM_f[0, 1], CM_f[1, 0]\n",
    "    FNR_f = FN_f/(FN_f + TP_f)\n",
    "    FPR_f = FP_f/(FP_f + TN_f)\n",
    "\n",
    "    if min(FNR_m, FNR_f) == 0:\n",
    "        if max(FNR_m, FNR_f) == 0:\n",
    "            BFNR = 1\n",
    "        else:\n",
    "            BFNR = np.Infinity\n",
    "    else:\n",
    "        BFNR = max(FNR_m, FNR_f) / np.sqrt(FNR_m * FNR_f)\n",
    "\n",
    "    if min(FPR_m, FPR_f) == 0:\n",
    "        if max(FPR_m, FPR_f) == 0:\n",
    "            BFPR = 1\n",
    "        else:\n",
    "            BFPR = np.Infinity\n",
    "    else:\n",
    "        BFPR = max(FPR_m, FPR_f) / np.sqrt(FPR_m * FPR_f)\n",
    "\n",
    "    return BFPR, BFNR"
   ]
  },
  {
   "cell_type": "code",
   "execution_count": 7,
   "id": "021a0afb-24dc-4dfb-a63d-77b24f37448b",
   "metadata": {},
   "outputs": [
    {
     "name": "stdout",
     "output_type": "stream",
     "text": [
      "RF with 2 estimators\n",
      "FPR + FNR = 0.36018032566276403\n",
      "Fairness scores: BFPR=1.2581889451648887, BFNR=1.1919824566836357\n",
      "---------------\n",
      "RF with 5 estimators\n",
      "FPR + FNR = 0.4703270084779976\n",
      "Fairness scores: BFPR=1.2617382786986342, BFNR=1.3848258933600173\n",
      "---------------\n",
      "RF with 10 estimators\n",
      "FPR + FNR = 0.5121787108060827\n",
      "Fairness scores: BFPR=1.3378775520350108, BFNR=1.3926933627069833\n",
      "---------------\n"
     ]
    }
   ],
   "source": [
    "for n, i in enumerate([2, 5, 10]):\n",
    "    print('RF with {} estimators'.format(i))\n",
    "    \n",
    "    y_pred = models[n].predict(X_valid)\n",
    "    score_valid = criterion(y_pred, y_valid)\n",
    "    BFPR_valid, BFNR_valid = fairness_criterion(y_pred, y_valid, mask_males, mask_females)\n",
    "    \n",
    "    print('FPR + FNR = {}'.format(score_valid))\n",
    "    print('Fairness scores: BFPR={}, BFNR={}'.format(BFPR_valid, BFNR_valid))\n",
    "    print('---------------')"
   ]
  },
  {
   "cell_type": "markdown",
   "id": "e83dff8f",
   "metadata": {},
   "source": [
    "<hr>\n",
    "\n",
    "## 5. Score\n",
    "\n",
    "<hr>\n"
   ]
  },
  {
   "cell_type": "code",
   "execution_count": 8,
   "id": "cb220b5d-7d2e-4b18-bed5-38dd45096461",
   "metadata": {},
   "outputs": [],
   "source": [
    "X_test = np.load(\"test_data.npy\")\n",
    "\n",
    "y_test = clf.predict(X_test).astype(np.int8)\n",
    "\n",
    "np.savetxt('y_test_challenge_student_TEST.txt', y_test, delimiter=',')"
   ]
  }
 ],
 "metadata": {
  "kernelspec": {
   "display_name": "Python 3.9.7 64-bit",
   "language": "python",
   "name": "python3"
  },
  "language_info": {
   "codemirror_mode": {
    "name": "ipython",
    "version": 3
   },
   "file_extension": ".py",
   "mimetype": "text/x-python",
   "name": "python",
   "nbconvert_exporter": "python",
   "pygments_lexer": "ipython3",
   "version": "3.9.7"
  },
  "vscode": {
   "interpreter": {
    "hash": "eac73d0129495b5bb4522910e374aaf43acb0a473321525c719968beb76cd416"
   }
  }
 },
 "nbformat": 4,
 "nbformat_minor": 5
}
